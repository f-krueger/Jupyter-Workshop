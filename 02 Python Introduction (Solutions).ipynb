{
 "cells": [
  {
   "cell_type": "markdown",
   "metadata": {},
   "source": [
    "_by Max Schröder$^{1,2}$ and Frank Krüger$^1$_\n",
    "\n",
    "$^1$ Institute of Communications Engineering, University of Rostock, Rostock <br>\n",
    "$^2$ University Library, University of Rostock, Rostock\n",
    "    \n",
    "**Abstract**:\n",
    "This notebook contains the solutions for the tasks in the `02 Python Introduction.ipynb` Jupyter Notebook."
   ]
  },
  {
   "cell_type": "markdown",
   "metadata": {},
   "source": [
    "**Task 1:** Figure out the meaning of each line yourself."
   ]
  },
  {
   "cell_type": "code",
   "execution_count": 1,
   "metadata": {},
   "outputs": [
    {
     "name": "stdout",
     "output_type": "stream",
     "text": [
      "12\n",
      "Hello World\n"
     ]
    }
   ],
   "source": [
    "x = 34 - 23 # A comment.\n",
    "y = \"Hello\" # Another one.\n",
    "z = 3.45\n",
    "if z == 3.45 or y == \"Hello\":\n",
    "    x = x + 1\n",
    "    y = y + \" World\"\n",
    "print(x)\n",
    "print(y)"
   ]
  },
  {
   "cell_type": "markdown",
   "metadata": {},
   "source": [
    "**Solution:**\n",
    "The first three lines each are variable assignments.\n",
    "You can see that Python 3 can have different kinds of values: integer numbers, strings and floating point numbers.\n",
    "The lines all work in the following way: the term on the right side of the `=` will be evaluated and the value copied to new memory that is referenced by the name on the left side of the `=`. As an example, the value of the term `34-23` which is `11` will be copied into a new set of memory that is referred to by the name `x`.\n",
    "\n",
    "The 4th line is an if-clause containing two conditions connected via the logical or operator.\n",
    "The or-operator is True if either of the conditions are True or if both are True.\n",
    "In comparison to the variable assignment (using a single `=`), we compare the value stored inside the variable memory with the other term by using the double equal sign `==`.\n",
    "After the condition and indentend block follows that will be executed if the condition is True.\n",
    "In this block, the variable x will be increased by 1 and the string inside variable y will be appended by the string ` World`.\n",
    "\n",
    "The last two lines are no longer indented which means that these lines are not part of the if-clause and instead will be executed anyway independent of the if-clause.\n",
    "The lines induce the output the current variable values of x respectively y.\n",
    "\n",
    "---"
   ]
  },
  {
   "cell_type": "markdown",
   "metadata": {},
   "source": [
    "**Task 2:** Implement a function that tests whether a given number is prime.\n",
    "\n",
    "**Solution:**"
   ]
  },
  {
   "cell_type": "code",
   "execution_count": 2,
   "metadata": {},
   "outputs": [],
   "source": [
    "import math\n",
    "\n",
    "def is_prime(n: int):\n",
    "    if n < 2:\n",
    "        return False\n",
    "    \n",
    "    for k in range(2, math.ceil(n/2)+1):\n",
    "        if n % k == 0:\n",
    "            return False\n",
    "    \n",
    "    return True"
   ]
  },
  {
   "cell_type": "code",
   "execution_count": 3,
   "metadata": {},
   "outputs": [
    {
     "name": "stdout",
     "output_type": "stream",
     "text": [
      "-1 is False\n",
      "0 is False\n",
      "1 is False\n",
      "2 is True\n",
      "3 is True\n",
      "4 is False\n",
      "5 is True\n",
      "6 is False\n",
      "7 is True\n",
      "8 is False\n",
      "9 is False\n",
      "10 is False\n",
      "11 is True\n",
      "12 is False\n",
      "13 is True\n",
      "14 is False\n"
     ]
    }
   ],
   "source": [
    "for i in range(-1, 15):\n",
    "    print('%i is %s' % (i, is_prime(i)))"
   ]
  },
  {
   "cell_type": "markdown",
   "metadata": {},
   "source": [
    "---\n",
    "\n",
    "**Task 3:** Use a list comprehension to make a list of all primes < 1000."
   ]
  },
  {
   "cell_type": "code",
   "execution_count": 4,
   "metadata": {},
   "outputs": [],
   "source": [
    "l = [x for x in range(1001) if is_prime(x)]"
   ]
  },
  {
   "cell_type": "code",
   "execution_count": 5,
   "metadata": {},
   "outputs": [],
   "source": [
    "# Alternative to the list comprehension\n",
    "l = []\n",
    "for x in range(1001):\n",
    "    if is_prime(x):\n",
    "        l.append(x)"
   ]
  },
  {
   "cell_type": "markdown",
   "metadata": {},
   "source": [
    "---\n",
    "**Task 4:** Type \"`np.ze`\" (without the quotes) and then hit the *Tab* key ..."
   ]
  },
  {
   "cell_type": "code",
   "execution_count": 6,
   "metadata": {},
   "outputs": [],
   "source": [
    "import numpy as np"
   ]
  },
  {
   "cell_type": "code",
   "execution_count": null,
   "metadata": {},
   "outputs": [],
   "source": [
    "np.ze"
   ]
  }
 ],
 "metadata": {
  "kernelspec": {
   "display_name": "Python 3",
   "language": "python",
   "name": "python3"
  },
  "language_info": {
   "codemirror_mode": {
    "name": "ipython",
    "version": 3
   },
   "file_extension": ".py",
   "mimetype": "text/x-python",
   "name": "python",
   "nbconvert_exporter": "python",
   "pygments_lexer": "ipython3",
   "version": "3.8.5"
  }
 },
 "nbformat": 4,
 "nbformat_minor": 4
}
