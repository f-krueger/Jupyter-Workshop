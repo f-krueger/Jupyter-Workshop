{
 "cells": [
  {
   "cell_type": "markdown",
   "metadata": {},
   "source": [
    "_by Max Schröder$^{1,2}$ and Frank Krüger$^1$_\n",
    "\n",
    "$^1$ Institute of Communications Engineering, University of Rostock, Rostock <br>\n",
    "$^2$ University Library, University of Rostock, Rostock\n",
    "    \n",
    "**Abstract**:\n",
    "This Jupyter notebook aims at providing a very simple data analysis example by employing the IMU data inside the `_data` folder. The data in this directory has been converted from the ARFF files of the following publication of IMU data:\n",
    "\n",
    "Frank Krüger, Albert Hein, Kristina Yordanova and Thomas Kirste<br>\n",
    "Recognising user actions during cooking task (Cooking task dataset) – IMU Data<br>\n",
    "Rostock : Universität Rostock , 2017<br>\n",
    "https://doi.org/10.18453/rosdok_id00000154"
   ]
  },
  {
   "cell_type": "markdown",
   "metadata": {},
   "source": [
    "## Python Dependencies\n",
    "\n",
    "First of all, we will import several useful libraries:"
   ]
  },
  {
   "cell_type": "code",
   "execution_count": null,
   "metadata": {},
   "outputs": [],
   "source": [
    "import os\n",
    "\n",
    "import numpy as np\n",
    "import pandas as pd\n",
    "import matplotlib.pyplot as plt"
   ]
  },
  {
   "cell_type": "markdown",
   "metadata": {},
   "source": [
    "While it is very good programming style to re-use existing software libraries instead of programming them by yourself, it is crucial for the portability and reproducibility of your source code that the detailed version of the library is documented and used in order to (re-)run your code.\n",
    "Otherwise, the result might be different due to e.g. changes to the interface or the implementation of a specific method.\n",
    "These software libraries are also called requirements.\n",
    "\n",
    "In Python-programming, two popular systems are used for managing the computing environment, i.e. the installation and maintenance of third party software libraries:\n",
    "\n",
    "1. pip and\n",
    "2. (Ana)conda\n",
    "\n",
    "In this workshop we will consider the pip environment.\n",
    "In order to easily install software requirement using pip, one has to provide a `requirements.txt` file containing both the name and the version.\n",
    "As discussed earlier the version is crucial for the reproducibility of the code.\n",
    "\n",
    "A sample file looks like follows:"
   ]
  },
  {
   "cell_type": "raw",
   "metadata": {},
   "source": [
    "tikzplotlib==0.8.2\n",
    "pydot==1.4.1"
   ]
  },
  {
   "cell_type": "markdown",
   "metadata": {},
   "source": [
    "**Task 1:** Create a `requirements.txt` file that containes all imported libraries and their corresponding version."
   ]
  },
  {
   "cell_type": "code",
   "execution_count": null,
   "metadata": {},
   "outputs": [],
   "source": []
  },
  {
   "cell_type": "markdown",
   "metadata": {},
   "source": [
    "The previous output is already formatted with respect to `requirements.txt` files and, thus, can easily be copied.\n",
    "\n",
    "Additionally to the `requirements.txt`, this kind of information / code cell can be keept inside the notebook too.\n",
    "This is for the convenience of other researchers that are able to easily check their installed versions."
   ]
  },
  {
   "cell_type": "markdown",
   "metadata": {},
   "source": [
    "## Reading Data\n",
    "\n",
    "**Task 2:** Write a function `read_data` that takes a file name of a CSV file and reads the corresponding file from a folder called `_data` in order to return a Pandas dataframe."
   ]
  },
  {
   "cell_type": "code",
   "execution_count": null,
   "metadata": {},
   "outputs": [],
   "source": []
  },
  {
   "cell_type": "markdown",
   "metadata": {},
   "source": [
    "Lets's actually try our function, by reading the file `_data/raw_1.csv`:"
   ]
  },
  {
   "cell_type": "code",
   "execution_count": null,
   "metadata": {},
   "outputs": [],
   "source": [
    "raw1 = read_data('raw_1.csv')"
   ]
  },
  {
   "cell_type": "markdown",
   "metadata": {},
   "source": [
    "In order to check the result, we want to display the content of the variable `raw1`:"
   ]
  },
  {
   "cell_type": "code",
   "execution_count": null,
   "metadata": {},
   "outputs": [],
   "source": [
    "raw1"
   ]
  },
  {
   "cell_type": "markdown",
   "metadata": {},
   "source": [
    "## Plotting Data\n",
    "During research, we often want to plot several measurements in order to integrate it into an article.\n",
    "Next, we will make a very basic plot of the Acceleration Sensor of the x-axis:"
   ]
  },
  {
   "cell_type": "code",
   "execution_count": null,
   "metadata": {},
   "outputs": [],
   "source": [
    "plt.plot(raw1['Sensor_T8_Acceleration_X'])"
   ]
  },
  {
   "cell_type": "markdown",
   "metadata": {},
   "source": [
    "**Task 3:** Write a plot that displays: X-, Y-, and Z-axis in the same plot and make it a little more useful such as adding a title as well as axis-labels."
   ]
  },
  {
   "cell_type": "code",
   "execution_count": null,
   "metadata": {},
   "outputs": [],
   "source": []
  }
 ],
 "metadata": {
  "kernelspec": {
   "display_name": "Python 3",
   "language": "python",
   "name": "python3"
  },
  "language_info": {
   "codemirror_mode": {
    "name": "ipython",
    "version": 3
   },
   "file_extension": ".py",
   "mimetype": "text/x-python",
   "name": "python",
   "nbconvert_exporter": "python",
   "pygments_lexer": "ipython3",
   "version": "3.8.5"
  }
 },
 "nbformat": 4,
 "nbformat_minor": 4
}
