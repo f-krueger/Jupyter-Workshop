{
 "cells": [
  {
   "cell_type": "markdown",
   "metadata": {},
   "source": [
    "_by Max Schröder$^{1,2}$ and Frank Krüger$^1$_\n",
    "\n",
    "$^1$ Institute of Communications Engineering, University of Rostock, Rostock <br>\n",
    "$^2$ University Library, University of Rostock, Rostock\n",
    "    \n",
    "**Abstract**:\n",
    "This introduction to the Python programming language is based on [this NLP course program](\n",
    "https://github.com/stefanluedtke/NLP-Exercises) as well as [this tutorial on audio signal processing](https://github.com/spatialaudio/selected-topics-in-audio-signal-processing-exercises)."
   ]
  },
  {
   "cell_type": "markdown",
   "metadata": {},
   "source": [
    "## Basics\n",
    "\n",
    "Below is a Python program containing a lot of the operations you will typically need: Assignments, arithmetics, logical operators, printing, comments. As you see, Python is quite easy to read.\n",
    "\n",
    "**Task 1:** Figure out the meaning of each line yourself."
   ]
  },
  {
   "cell_type": "code",
   "execution_count": null,
   "metadata": {},
   "outputs": [],
   "source": [
    "x = 34 - 23 # A comment.\n",
    "y = \"Hello\" # Another one.\n",
    "z = 3.45\n",
    "if z == 3.45 or y == \"Hello\":\n",
    "    x = x + 1\n",
    "    y = y + \" World\"\n",
    "print(x)\n",
    "print(y)"
   ]
  },
  {
   "cell_type": "markdown",
   "metadata": {},
   "source": [
    "## Indentation\n",
    "Python handles blocks in a different way than other programming languages you might know, like Java or C: The first line with less indentation is outside of the block, the first line with more indentation starts a nested block. A colon often starts a new block. For example, in the code below, the fourth line is always executed, because it is not part of the block:"
   ]
  },
  {
   "cell_type": "code",
   "execution_count": null,
   "metadata": {},
   "outputs": [],
   "source": [
    "if 17<16:\n",
    "    print(\"executed conditionally\")\n",
    "    print(\"also conditionally\")\n",
    "print(\"always executed, because not part of the block above\")"
   ]
  },
  {
   "cell_type": "markdown",
   "metadata": {},
   "source": [
    "## Reference Semantics\n",
    "Assignments behave as you might know from Java: For atomic data types, assignments work \"by value\", for all other data types (e.g. lists), assignments work \"by reference\": If we manipulate an object, this influences all references."
   ]
  },
  {
   "cell_type": "code",
   "execution_count": null,
   "metadata": {},
   "outputs": [],
   "source": [
    "a=17\n",
    "b=a #assign the *value* of a to b\n",
    "a=12\n",
    "print(b) #still 17, because assinment by value\n",
    "\n",
    "x=[1,2,3] #this is what lists look like\n",
    "y=x #assign reference to the list to y\n",
    "x.append(4) #manipulate the list by adding a value\n",
    "print(y) #y also changed, because of assingment by reference"
   ]
  },
  {
   "cell_type": "markdown",
   "metadata": {},
   "source": [
    "## Lists\n",
    "Lists are written in square brackets, as you have seen above. Lists can contain values of mixed types. List indices start with 0, as you can see here:"
   ]
  },
  {
   "cell_type": "code",
   "execution_count": null,
   "metadata": {},
   "outputs": [],
   "source": [
    "li = [17,\"Hello\",4.1,\"Bar\",5,6]\n",
    "li[2]"
   ]
  },
  {
   "cell_type": "markdown",
   "metadata": {},
   "source": [
    "You can also use negative indices, which means that we start counting from the right:"
   ]
  },
  {
   "cell_type": "code",
   "execution_count": null,
   "metadata": {},
   "outputs": [],
   "source": [
    "li[-2]"
   ]
  },
  {
   "cell_type": "markdown",
   "metadata": {},
   "source": [
    "You can also select subsets of lists (\"slicing\"), like this:"
   ]
  },
  {
   "cell_type": "code",
   "execution_count": null,
   "metadata": {},
   "outputs": [],
   "source": [
    "li[-4:-2]"
   ]
  },
  {
   "cell_type": "markdown",
   "metadata": {},
   "source": [
    "Note that slicing returns a copy of the sub-list."
   ]
  },
  {
   "cell_type": "markdown",
   "metadata": {},
   "source": [
    "### Some more list operators\n",
    "Here are some more operators you might find useful."
   ]
  },
  {
   "cell_type": "code",
   "execution_count": null,
   "metadata": {},
   "outputs": [],
   "source": [
    "# Boolean test whether a value is in a list: the in operator\n",
    "t = [1,2,3,4]\n",
    "2 in t \n",
    "\n",
    "# Concatenate lists: the + operator\n",
    "a = [1,2,3,4]\n",
    "b = [5,6,7]\n",
    "c = a + b\n",
    "c\n",
    "\n",
    "# Repeat a list n times: the * operator\n",
    "a=[1,2,3]\n",
    "3*a\n",
    "\n",
    "# Append lists\n",
    "a=[1,2,3]\n",
    "a.append(4)\n",
    "\n",
    "# Index of first occurence\n",
    "a.index(2)\n",
    "\n",
    "# Number of occurences\n",
    "a = [1,2,3,2,1,2]\n",
    "a.count(2)\n",
    "\n",
    "# Remove first occurence\n",
    "a.remove(2)\n",
    "\n",
    "# Revese the list\n",
    "a.reverse()\n",
    "\n",
    "# Sort the list\n",
    "a.sort()"
   ]
  },
  {
   "cell_type": "markdown",
   "metadata": {},
   "source": [
    "## Dictionaries: A mapping type\n",
    "Dictionaries are known as maps in other languages: They store a mapping between a set of keys and a set of values. Below is an example on how to use dictionaries:"
   ]
  },
  {
   "cell_type": "code",
   "execution_count": null,
   "metadata": {},
   "outputs": [],
   "source": [
    "# Create a new dictionary\n",
    "d = {'user':'bozo', 'pswd':1234}\n",
    "\n",
    "# Access the values via a key\n",
    "d['user']\n",
    "d['pswd']\n",
    "\n",
    "# Add key-value pairs\n",
    "d['id']=17\n",
    "\n",
    "# List of keys\n",
    "d.keys()\n",
    "\n",
    "# List of values\n",
    "d.values()"
   ]
  },
  {
   "cell_type": "markdown",
   "metadata": {},
   "source": [
    "## Functions\n",
    "Functions in Python work as you would expect: Arguments to functions are passed by assignment, that means passed arguments are assigned to local names. Assignments to arguments cannot affect the caller, but changing mutable arguments might. Here is an example of defining and calling a function:\n"
   ]
  },
  {
   "cell_type": "code",
   "execution_count": null,
   "metadata": {},
   "outputs": [],
   "source": [
    "def myfun(x,y):\n",
    "    print(\"The function is executed.\")\n",
    "    y[0]=8 # This changes the list that y points to\n",
    "    return(y[1]+x)\n",
    "\n",
    "mylist = [1,2,3]\n",
    "result=myfun(17,mylist)\n",
    "print(\"Function returned: \",result)\n",
    "print(\"List is now: \",mylist)"
   ]
  },
  {
   "cell_type": "markdown",
   "metadata": {},
   "source": [
    "### Optional Arguments\n",
    "We can define defaults for arguments that do not need to be passed:"
   ]
  },
  {
   "cell_type": "code",
   "execution_count": null,
   "metadata": {
    "scrolled": true
   },
   "outputs": [],
   "source": [
    "def func(a, b, c=10, d=100):\n",
    "    print(a, b, c, d)\n",
    "func(1,2)\n",
    "func(1,2,3,4)"
   ]
  },
  {
   "cell_type": "markdown",
   "metadata": {},
   "source": [
    "Some more facts about functions:\n",
    "* All functions in Python have a return value, functions without a return statement have the special return value None\n",
    "* There is no function overloading in Python\n",
    "* Functions can be used as any other data types: They can be arguments to functions, return values of functions, assigned to variables, etc. This means Python is a functional programming language, and we can do many of things you know and love from Haskell, like higher-order functions!"
   ]
  },
  {
   "cell_type": "markdown",
   "metadata": {},
   "source": [
    "## Control of Flow\n",
    "We have already seen If-branches above. For- and While-Loops also work exactly as you would expect, Here are just some examples:"
   ]
  },
  {
   "cell_type": "code",
   "execution_count": null,
   "metadata": {},
   "outputs": [],
   "source": [
    "x = 3\n",
    "while x < 10:\n",
    "    if x > 7:\n",
    "        x += 2\n",
    "        continue\n",
    "    x = x + 1\n",
    "    print(\"Still in the loop.\")\n",
    "    if x == 8:\n",
    "        break\n",
    "print(\"Outside of the loop.\")"
   ]
  },
  {
   "cell_type": "code",
   "execution_count": null,
   "metadata": {},
   "outputs": [],
   "source": [
    "for x in [0,1,2,3,4,5,6,7,8,9]:\n",
    "    if x > 7:\n",
    "        x += 2\n",
    "        continue\n",
    "    x = x + 1\n",
    "    print(\"Still in the loop.\")\n",
    "    if x == 8:\n",
    "        break\n",
    "print(\"Outside of the loop.\")"
   ]
  },
  {
   "cell_type": "markdown",
   "metadata": {},
   "source": [
    "**Task 2:** Implement a function that tests whether a given number is prime."
   ]
  },
  {
   "cell_type": "code",
   "execution_count": null,
   "metadata": {},
   "outputs": [],
   "source": []
  },
  {
   "cell_type": "code",
   "execution_count": null,
   "metadata": {},
   "outputs": [],
   "source": [
    "for i in range(-1, 15):\n",
    "    print('%i is %s' % (i, is_prime(i)))"
   ]
  },
  {
   "cell_type": "markdown",
   "metadata": {},
   "source": [
    "## List Comprehensions\n",
    "There is a special syntax for list comprehensions (which you might know from Haskell)."
   ]
  },
  {
   "cell_type": "code",
   "execution_count": null,
   "metadata": {},
   "outputs": [],
   "source": [
    "# List of all multiples of 3 that are <100:\n",
    "evens = [x for x in range(3,100) if x%3==0]\n",
    "print(evens)"
   ]
  },
  {
   "cell_type": "markdown",
   "metadata": {},
   "source": [
    "**Task 3:** Use a list comprehension to make a list of all primes < 1000."
   ]
  },
  {
   "cell_type": "code",
   "execution_count": null,
   "metadata": {},
   "outputs": [],
   "source": []
  },
  {
   "cell_type": "markdown",
   "metadata": {},
   "source": [
    "## Importing Modules/Packages\n",
    "\n",
    "In order to work with numeric arrays, we import the [NumPy](http://www.numpy.org) package.\n",
    "Numpy is a very popular Python package that allows to work more easily with numeric arrays. It is the basis for much of what you will see in this course."
   ]
  },
  {
   "cell_type": "code",
   "execution_count": null,
   "metadata": {},
   "outputs": [],
   "source": [
    "import numpy as np"
   ]
  },
  {
   "cell_type": "markdown",
   "metadata": {},
   "source": [
    "Now we can use all NumPy functions (by prefixing \"`np.`\")."
   ]
  },
  {
   "cell_type": "code",
   "execution_count": null,
   "metadata": {},
   "outputs": [],
   "source": [
    "np.zeros(10000)"
   ]
  },
  {
   "cell_type": "markdown",
   "metadata": {},
   "source": [
    "## Tab Completion\n",
    "\n",
    "**Task 4:** Type \"`np.ze`\" (without the quotes) and then hit the *Tab* key ..."
   ]
  },
  {
   "cell_type": "code",
   "execution_count": null,
   "metadata": {},
   "outputs": [],
   "source": []
  },
  {
   "cell_type": "markdown",
   "metadata": {},
   "source": [
    "## Getting Help\n",
    "\n",
    "If you want to know details about the usage of `np.zeros()` and all its supported arguments, have a look at its help text.\n",
    "Just append a question mark to the function name (without parentheses!):"
   ]
  },
  {
   "cell_type": "code",
   "execution_count": null,
   "metadata": {},
   "outputs": [],
   "source": [
    "np.arange?"
   ]
  },
  {
   "cell_type": "markdown",
   "metadata": {},
   "source": [
    "A help window should open in the lower part of the browser window.\n",
    "This window can be closed by hitting the *q* key (like \"quit\").\n",
    "\n",
    "You can also get help for the whole NumPy package:"
   ]
  },
  {
   "cell_type": "code",
   "execution_count": null,
   "metadata": {},
   "outputs": [],
   "source": [
    "np?"
   ]
  },
  {
   "cell_type": "markdown",
   "metadata": {},
   "source": [
    "You can get help for any object by appending (or prepending) a question mark to the name of the object.\n",
    "Let's check what the help system can tell us about our variable `a`:"
   ]
  },
  {
   "cell_type": "code",
   "execution_count": null,
   "metadata": {},
   "outputs": [],
   "source": [
    "a?"
   ]
  },
  {
   "cell_type": "markdown",
   "metadata": {},
   "source": [
    "## Useful Jupyter Notebook Commands\n",
    "\n",
    "In addition to the general python programming, there are some very useful Jupyter Notebook specific commands starting with '%'.\n",
    "Let's first look at the variables, we have already defined including their type and the current value by the following command:"
   ]
  },
  {
   "cell_type": "code",
   "execution_count": null,
   "metadata": {},
   "outputs": [],
   "source": [
    "%whos"
   ]
  },
  {
   "cell_type": "markdown",
   "metadata": {},
   "source": [
    "Other commands for timing python expressions might also be helpful, e.g. `%time` and `%timeit`\n",
    "\n",
    "**%%time in first line of cell for timing the entire cell, %time before comment for a single line** "
   ]
  },
  {
   "cell_type": "code",
   "execution_count": null,
   "metadata": {},
   "outputs": [],
   "source": [
    "%time?"
   ]
  }
 ],
 "metadata": {
  "kernelspec": {
   "display_name": "Python 3",
   "language": "python",
   "name": "python3"
  },
  "language_info": {
   "codemirror_mode": {
    "name": "ipython",
    "version": 3
   },
   "file_extension": ".py",
   "mimetype": "text/x-python",
   "name": "python",
   "nbconvert_exporter": "python",
   "pygments_lexer": "ipython3",
   "version": "3.8.5"
  }
 },
 "nbformat": 4,
 "nbformat_minor": 4
}
