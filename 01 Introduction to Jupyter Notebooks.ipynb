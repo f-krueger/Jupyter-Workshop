{
 "cells": [
  {
   "cell_type": "markdown",
   "metadata": {},
   "source": [
    "_by Max Schröder$^{1,2}$ and Frank Krüger$^1$_\n",
    "\n",
    "$^1$ Institute of Communications Engineering, University of Rostock, Rostock <br>\n",
    "$^2$ University Library, University of Rostock, Rostock\n",
    "    \n",
    "**Abstract**:\n",
    "The following Jupyter notebook aims at giving a general introduction to the ideas inherent in Jupyter notebooks as well as their usage."
   ]
  },
  {
   "cell_type": "markdown",
   "metadata": {},
   "source": [
    "## Introduction\n",
    "\n",
    "Data take an essential role in nowadays research investigations.\n",
    "Furthermore, the amount of information within data files increases.\n",
    "Despite the data that researchers produce during their own research experiments, e.g. in wetlab experiments, existing datasets will be increasingly re-used.\n",
    "Thus, researchers have to combine, pre-process, analyse, and illustrate research data as part of the research process. **(Reference)**\n",
    "This is commonly referred as data processing pipeline.\n",
    "\n",
    "Crucial for the credibility of this research investigation is the detailed documentation of the process.\n",
    "This is not only valid for wetlab experiments, where so-called (electronic) lab-notebooks are used for a long time, but also for the computational analysis.\n",
    "When it comes to the latter, the naming of the involved software tools is not enough in order to make the scientific process comprehensible and reproducible.\n",
    "Furthermore, many aspects regarding the computing environment are of interest, e.g. the specific software version and the hardware/virtual environment, but also the explanation of the computational process itself is of interest, e.g. the order of the application of tools etc.\n",
    "\n",
    "Keeping the reproducibility of research investigations in mind, research software usage can be categorized into the following two categories:\n",
    "\n",
    "1. interactive software requiring manual actions, e.g. Microsoft Excel and COMSOL Multiphysics; and \n",
    "2. parameterized software running automatically, e.g. Scripts and Batch programs.\n",
    "\n",
    "While interactive software is popularly used, the interactions of the individual researchers are hard to document and, thus, also the reproducibility of the research processes is difficult to achieve.\n",
    "Thus, the second category is better suited for reproducible computational research as the re-execution of the same script in the same computing environment should obtain the same research results and findings. *(sidenote: this is not always true)*\n",
    "However, the use of this software also has to be documented in order to make the software execution comprehensible.\n",
    "This is where Jupyter notebooks came in."
   ]
  },
  {
   "cell_type": "markdown",
   "metadata": {},
   "source": [
    "## Jupyter Notebooks\n",
    "\n",
    "Jupyter is an acronym of the programming languages Julia, Python and R.\n",
    "It is used for naming both:\n",
    "\n",
    "1. a digital *document* that consists of cells with either source code or explanation, and\n",
    "2. a *service/software* that enables the creation, modification, and (re-)execution of these documents in an interactive interface."
   ]
  },
  {
   "cell_type": "markdown",
   "metadata": {},
   "source": [
    "### Getting Started\n",
    "\n",
    "In order to get started with Jupyter, you can either [install the Jupyter Notebook software on your local computer](https://jupyter.org/install), e.g. using Conda or Pip, employ a ready-to-use [Docker image](https://jupyter-docker-stacks.readthedocs.io/en/latest/), or you can use a Jupyter Hub instead that starts Jupyter Notebooks after login.\n",
    "\n",
    "**Task 1:**\n",
    "Open the Jupyter Hub and sign in using the credentials given to you.\n",
    "The result should look similar to the following screenshot:\n",
    "\n",
    "![Jupyter Lab after Login within a Jupyter Hub](_imgs/01_JupyterHub-Lab.png)"
   ]
  },
  {
   "cell_type": "markdown",
   "metadata": {},
   "source": [
    "Actually, this is not the conventional Jupyter Notebook software.\n",
    "Instead, the Jupyter Lab is displayed which is a web application providing richer features such as displaying a file list along the notebooks similar to other Integrated Development Environments (IDEs) such as [Microsoft Visual Studio Code](https://code.visualstudio.com/) and [JetBrains IDEs](https://www.jetbrains.com/).\n",
    "If you are curious about the conventional Jupyter Notebook software you can change the URL inside the Jupyter Hub by replacing \"lab\" and everything that might follow with \"tree\"."
   ]
  },
  {
   "cell_type": "markdown",
   "metadata": {},
   "source": [
    "### Notebook Kernels\n",
    "\n",
    "As can be seen in the Jupyter Hub already, Jupyter Notebooks can be created for several programming languages including Python, Julia, and R, but also Matlab and Octave.\n",
    "While the concept of Jupyter Notebook documents remain the same, the cells then contain code in the corresponding programming language along documentation cells that can be written in either raw text format or [Markdown](https://daringfireball.net/projects/markdown/).\n",
    "The Jupyter Notebook integration of a specific programming language is called Kernel of which many [are already available](https://github.com/jupyter/jupyter/wiki/Jupyter-kernels)."
   ]
  },
  {
   "cell_type": "markdown",
   "metadata": {},
   "source": [
    "**Task 2:** Create a new Jupyter Notebook with Python kernel.\n",
    "The result should look similar to the following screenshot:\n",
    "\n",
    "![Jupyter Lab with a new Notebook using the Python Kernel](_imgs/01_JupyterHub-New.png)"
   ]
  },
  {
   "cell_type": "markdown",
   "metadata": {},
   "source": [
    "As can be seen the Jupyter Notebook software creates a new file inside the current directory called \"Untitled.ipynb\".\n",
    "With respect to comprehensibility, the first activity of every user should be to give the Notebook a concise name.\n",
    "The file ending \"ipynb\" results from the history of Jupyter Notebooks that evolved from software called iPython including their documents iPython Notebooks."
   ]
  },
  {
   "cell_type": "markdown",
   "metadata": {},
   "source": [
    "Cells can have multiple lines (use *Enter* for line breaks).\n",
    "In order to create new cells you can either use the <button class=\"fa fa-plus btn btn-xs btn-default\"></button> button or the 'Edit' menu.\n",
    "Another option is to select a cell inside the Jupyter Notebook and use keys 'a' or 'b'.\n",
    "This adds a cell above respectively below the selected cell.\n",
    "\n",
    "When working with cells, there are two different modes:\n",
    "\n",
    "1. *Edit* mode corresponding for the editing of a cell and\n",
    "2. *Command* mode corresponding for using keyboard shortcuts.\n",
    "\n",
    "You can go into *edit* mode by either double-clicking on a cell or by selecting a cell and pressing 'Enter'.\n",
    "If you want to go to *command* mode from this again you can use the 'ESC' key."
   ]
  },
  {
   "cell_type": "markdown",
   "metadata": {},
   "source": [
    "**Task 3:** Create two cells within your empty Notebook.\n",
    "The first one should be a documentation cell and the second one should contain the following Python Code:\n",
    "\n",
    "```Python\n",
    "print(\"My first Jupyter Notebook\")\n",
    "```\n",
    "\n",
    "**Tipp 1: Make sure that your documentation cell explains the source code in the cell that follows afterwards.**\n",
    "This is an essential best practice in order to make sure that Notebooks are comprehensible to others."
   ]
  },
  {
   "cell_type": "markdown",
   "metadata": {},
   "source": [
    "Your Jupyter Notebook should look similar to the following screenshot:\n",
    "\n",
    "![JupyterHub containing a very Basic Jupyter Notebook](_imgs/01_JupyterHub-Basic.png)"
   ]
  },
  {
   "cell_type": "markdown",
   "metadata": {},
   "source": [
    "So far this is nothing more than a collection of text and source code.\n",
    "However, the strength of Jupyter Notebooks is that you can also execute the Notebook in-place.\n",
    "You do so by starting a Kernel (this has automatically taken place without your knowledge by opening a notebook).\n",
    "Afterwards you can execute cell by cell.\n",
    "For *documentation cells* (Markdown-langauge) this means that they will be rendered into a readable version.\n",
    "For *source code cells* this means that the source code within that cell will be passed to the kernel.\n",
    "That means all lines are executed, but only the value of the last line is displayed after the cell (except if there is no value to display).\n",
    "Essential to know is that the kernel environment is not isolated for each cell but for the whole document, i.e. cells that were previously passed to the kernel and set variables or define functions remain executed.\n",
    "The execution order is displayed left to each cell."
   ]
  },
  {
   "cell_type": "markdown",
   "metadata": {},
   "source": [
    "Cells and can be selected by a mouse click (or with the arrow up/down keys and *Enter*).\n",
    "The text respectively source code can be edited and then executed by pressing *Shift+Enter* or by clicking the <button class=\"fa fa-play icon-play btn btn-xs btn-default\"></button> button in the top menu of the Jupyter Notebook."
   ]
  },
  {
   "cell_type": "markdown",
   "metadata": {},
   "source": [
    "**Task 4:** Execute all cells in your Jupyter Notebook.\n",
    "The result should look similar to the following:\n",
    "\n",
    "![JupyterHub containing a very Basic Jupyter Notebook whose cells are executed](_imgs/01_JupyterHub-Basic_executed.png)"
   ]
  },
  {
   "cell_type": "markdown",
   "metadata": {},
   "source": [
    "**Tipp 2:** The problem of previously executed cells and their hidden state inside the kernel is one of the major drawbacks within Jupyter Notebooks.\n",
    "In order to overcome this problem you should regularly use the function in the Menu \"Kernel\" -> \"Restart Kernel and Run All Cells...\".\n",
    "Latest you should use this before submitting a new version of the Notebook into the Version Control System or Sharing with some other researchers."
   ]
  }
 ],
 "metadata": {
  "kernelspec": {
   "display_name": "Python 3",
   "language": "python",
   "name": "python3"
  },
  "language_info": {
   "codemirror_mode": {
    "name": "ipython",
    "version": 3
   },
   "file_extension": ".py",
   "mimetype": "text/x-python",
   "name": "python",
   "nbconvert_exporter": "python",
   "pygments_lexer": "ipython3",
   "version": "3.8.5"
  },
  "latex_envs": {
   "LaTeX_envs_menu_present": true,
   "autoclose": false,
   "autocomplete": true,
   "bibliofile": "biblio.bib",
   "cite_by": "apalike",
   "current_citInitial": 1,
   "eqLabelWithNumbers": true,
   "eqNumInitial": 1,
   "hotkeys": {
    "equation": "Ctrl-E",
    "itemize": "Ctrl-I"
   },
   "labels_anchors": false,
   "latex_user_defs": false,
   "report_style_numbering": false,
   "user_envs_cfg": false
  }
 },
 "nbformat": 4,
 "nbformat_minor": 4
}
